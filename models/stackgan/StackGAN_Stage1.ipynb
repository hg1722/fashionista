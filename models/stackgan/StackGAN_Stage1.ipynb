{
  "nbformat": 4,
  "nbformat_minor": 0,
  "metadata": {
    "colab": {
      "name": "Fashionista Stackgan_Stage1.ipynb",
      "provenance": [],
      "collapsed_sections": [
        "psC9UHjzliA1",
        "XZybHodapH3H",
        "ODvYdkGtpGKJ",
        "eNBHRmpqpZgo"
      ],
      "toc_visible": true
    },
    "kernelspec": {
      "name": "python3",
      "display_name": "Python 3"
    },
    "accelerator": "GPU"
  },
  "cells": [
    {
      "cell_type": "markdown",
      "metadata": {
        "id": "fBRj1Lxsle4H",
        "colab_type": "text"
      },
      "source": [
        "# Stage I GAN"
      ]
    },
    {
      "cell_type": "markdown",
      "metadata": {
        "id": "psC9UHjzliA1",
        "colab_type": "text"
      },
      "source": [
        "# Importing Libraries"
      ]
    },
    {
      "cell_type": "code",
      "metadata": {
        "id": "ml58N7F-jnLh",
        "colab_type": "code",
        "colab": {}
      },
      "source": [
        "import os\n",
        "import pickle\n",
        "import random\n",
        "import time\n",
        "\n",
        "import PIL\n",
        "import numpy as np\n",
        "import pandas as pd\n",
        "import tensorflow as tf\n",
        "from PIL import Image\n",
        "from keras import Input, Model\n",
        "from keras import backend as K\n",
        "from keras.callbacks import TensorBoard\n",
        "from keras.layers import Dense, LeakyReLU, BatchNormalization, ReLU, Reshape, UpSampling2D, Conv2D, Activation, \\\n",
        "    concatenate, Flatten, Lambda, Concatenate\n",
        "from keras.optimizers import Adam\n",
        "from matplotlib import pyplot as plt\n",
        "from keras.utils import np_utils, to_categorical"
      ],
      "execution_count": 0,
      "outputs": []
    },
    {
      "cell_type": "markdown",
      "metadata": {
        "id": "XZybHodapH3H",
        "colab_type": "text"
      },
      "source": [
        "# Loading of Dataset"
      ]
    },
    {
      "cell_type": "code",
      "metadata": {
        "id": "lKShJR7sjy6e",
        "colab_type": "code",
        "outputId": "f8f15841-da27-4645-f7ae-b29f11b49f61",
        "colab": {
          "base_uri": "https://localhost:8080/",
          "height": 34
        }
      },
      "source": [
        "from google.colab import drive\n",
        "drive.mount('/content/drive', force_remount=True)"
      ],
      "execution_count": 16,
      "outputs": [
        {
          "output_type": "stream",
          "text": [
            "Mounted at /content/drive\n"
          ],
          "name": "stdout"
        }
      ]
    },
    {
      "cell_type": "code",
      "metadata": {
        "id": "t-g-hE4411Nx",
        "colab_type": "code",
        "colab": {
          "base_uri": "https://localhost:8080/",
          "height": 269
        },
        "outputId": "1f777330-0165-4610-97a8-5266e56c1f1e"
      },
      "source": [
        "import h5py \n",
        "hf = h5py.File('drive/My Drive/csci566/deepfashion.hdf5','r+')   \n",
        "imgs = np.array(hf['images'].value)\n",
        "one_hot_labels = np.array(hf['labels'].value)\n",
        "labels = one_hot_labels"
      ],
      "execution_count": 17,
      "outputs": [
        {
          "output_type": "error",
          "ename": "RuntimeError",
          "evalue": "ignored",
          "traceback": [
            "\u001b[0;31m---------------------------------------------------------------------------\u001b[0m",
            "\u001b[0;31mRuntimeError\u001b[0m                              Traceback (most recent call last)",
            "\u001b[0;32mh5py/_objects.pyx\u001b[0m in \u001b[0;36mh5py._objects.ObjectID.__dealloc__\u001b[0;34m()\u001b[0m\n",
            "\u001b[0;31mRuntimeError\u001b[0m: Can't decrement id ref count (file write failed: time = Thu Dec  5 06:48:33 2019\n, filename = 'drive/My Drive/csci566/deepfashion.hdf5', file descriptor = 76, errno = 107, error message = 'Transport endpoint is not connected', buf = 0x6dff058, total write size = 96, bytes this sub-write = 96, bytes actually written = 18446744073709551615, offset = 0)"
          ]
        },
        {
          "output_type": "stream",
          "text": [
            "Exception ignored in: 'h5py._objects.ObjectID.__dealloc__'\n",
            "Traceback (most recent call last):\n",
            "  File \"h5py/_objects.pyx\", line 193, in h5py._objects.ObjectID.__dealloc__\n",
            "RuntimeError: Can't decrement id ref count (file write failed: time = Thu Dec  5 06:48:33 2019\n",
            ", filename = 'drive/My Drive/csci566/deepfashion.hdf5', file descriptor = 76, errno = 107, error message = 'Transport endpoint is not connected', buf = 0x6dff058, total write size = 96, bytes this sub-write = 96, bytes actually written = 18446744073709551615, offset = 0)\n"
          ],
          "name": "stderr"
        }
      ]
    },
    {
      "cell_type": "code",
      "metadata": {
        "id": "AoZfPoskuHzS",
        "colab_type": "code",
        "outputId": "317db09c-3754-4a60-8a7b-c1fb2353980a",
        "colab": {
          "base_uri": "https://localhost:8080/",
          "height": 51
        }
      },
      "source": [
        "imgs = imgs[:5000, :, :, :]\n",
        "labels = labels[:5000]\n",
        "\n",
        "print(imgs.shape)\n",
        "print(labels.shape)"
      ],
      "execution_count": 18,
      "outputs": [
        {
          "output_type": "stream",
          "text": [
            "(5000, 128, 128, 3)\n",
            "(5000, 25)\n"
          ],
          "name": "stdout"
        }
      ]
    },
    {
      "cell_type": "code",
      "metadata": {
        "id": "ujK3cWPoulcr",
        "colab_type": "code",
        "outputId": "91279871-86a5-4a58-ddc7-8f2fc4fd1b4d",
        "colab": {
          "base_uri": "https://localhost:8080/",
          "height": 34
        }
      },
      "source": [
        "X_train, y_train = imgs, labels\n",
        "NUM_ATTRIBUTES = labels.shape[1]\n",
        "\n",
        "print(\"Number of attributes:\", NUM_ATTRIBUTES)"
      ],
      "execution_count": 19,
      "outputs": [
        {
          "output_type": "stream",
          "text": [
            "Number of attributes: 25\n"
          ],
          "name": "stdout"
        }
      ]
    },
    {
      "cell_type": "code",
      "metadata": {
        "id": "hNrDD9wPuP0q",
        "colab_type": "code",
        "colab": {}
      },
      "source": [
        "# from skimage.transform import rescale\n",
        "# X_train_rescaled = np.zeros(shape = (X_train.shape[0], 64, 64, 3))\n",
        "# for i in range(X_train.shape[0]):\n",
        "#   X_train_rescaled[i] = rescale(X_train[i], 0.5, anti_aliasing=False)\n",
        "\n",
        "# print(X_train_rescaled.shape)\n",
        "\n",
        "\n",
        "import cv2\n",
        "\n",
        "rescaled = []\n",
        "\n",
        "for i, img in enumerate(X_train):\n",
        "    img = img.astype('float32')\n",
        "    img = cv2.resize(img, (64, 64))\n",
        "    img = cv2.normalize(img, None, alpha=0, beta=1, norm_type=cv2.NORM_MINMAX, dtype=cv2.CV_32F)\n",
        "    rescaled.append(img)\n",
        "\n",
        "X_train = np.array(rescaled)"
      ],
      "execution_count": 0,
      "outputs": []
    },
    {
      "cell_type": "code",
      "metadata": {
        "id": "4_EKsfi8u1mQ",
        "colab_type": "code",
        "outputId": "db7304bd-55c6-4b81-99df-009723e96a42",
        "colab": {
          "base_uri": "https://localhost:8080/",
          "height": 302
        }
      },
      "source": [
        "print(X_train.shape)\n",
        "print(np.amin(X_train), np.amax(X_train))\n",
        "\n",
        "plt.imshow(X_train[0], interpolation='nearest')\n",
        "plt.show()"
      ],
      "execution_count": 21,
      "outputs": [
        {
          "output_type": "stream",
          "text": [
            "(5000, 64, 64, 3)\n",
            "0.0 1.0000002\n"
          ],
          "name": "stdout"
        },
        {
          "output_type": "display_data",
          "data": {
            "image/png": "[encoded data removed]",
            "text/plain": [
              "<Figure size 432x288 with 1 Axes>"
            ]
          },
          "metadata": {
            "tags": []
          }
        }
      ]
    },
    {
      "cell_type": "markdown",
      "metadata": {
        "id": "ODvYdkGtpGKJ",
        "colab_type": "text"
      },
      "source": [
        "# Model Creation"
      ]
    },
    {
      "cell_type": "code",
      "metadata": {
        "id": "N5BK6rWkpSyQ",
        "colab_type": "code",
        "colab": {}
      },
      "source": [
        "def build_stage1_generator():\n",
        "\n",
        "    input_layer = Input(shape=(100,))\n",
        "    labels = Input(shape=(NUM_ATTRIBUTES,))\n",
        "\n",
        "    gen_input = Concatenate(axis=1)([input_layer, labels])\n",
        "\n",
        "    x = Dense(128 * 8 * 4 * 4, use_bias=False)(gen_input)\n",
        "    x = ReLU()(x)\n",
        "\n",
        "    x = Reshape((4, 4, 128 * 8), input_shape=(128 * 8 * 4 * 4,))(x)\n",
        "\n",
        "    x = UpSampling2D(size=(2, 2))(x)\n",
        "    x = Conv2D(512, kernel_size=3, padding=\"same\", strides=1, use_bias=False)(x)\n",
        "    x = BatchNormalization()(x)\n",
        "    x = ReLU()(x)\n",
        "\n",
        "    x = UpSampling2D(size=(2, 2))(x)\n",
        "    x = Conv2D(256, kernel_size=3, padding=\"same\", strides=1, use_bias=False)(x)\n",
        "    x = BatchNormalization()(x)\n",
        "    x = ReLU()(x)\n",
        "\n",
        "    x = UpSampling2D(size=(2, 2))(x)\n",
        "    x = Conv2D(128, kernel_size=3, padding=\"same\", strides=1, use_bias=False)(x)\n",
        "    x = BatchNormalization()(x)\n",
        "    x = ReLU()(x)\n",
        "\n",
        "    x = UpSampling2D(size=(2, 2))(x)\n",
        "    x = Conv2D(64, kernel_size=3, padding=\"same\", strides=1, use_bias=False)(x)\n",
        "    x = BatchNormalization()(x)\n",
        "    x = ReLU()(x)\n",
        "\n",
        "    x = Conv2D(3, kernel_size=3, padding=\"same\", strides=1, use_bias=False)(x)\n",
        "    x = Activation(activation='tanh')(x)\n",
        "\n",
        "    stage1_gen = Model(inputs=[input_layer, labels], outputs=[x])\n",
        "    return stage1_gen\n"
      ],
      "execution_count": 0,
      "outputs": []
    },
    {
      "cell_type": "code",
      "metadata": {
        "id": "xJLclqSTpVGj",
        "colab_type": "code",
        "colab": {}
      },
      "source": [
        "def build_stage1_discriminator():\n",
        "\n",
        "    input_layer = Input(shape=(64, 64, 3))\n",
        "\n",
        "    x = Conv2D(64, (4, 4),\n",
        "               padding='same', strides=2,\n",
        "               input_shape=(64, 64, 3), use_bias=False)(input_layer)\n",
        "    x = LeakyReLU(alpha=0.2)(x)\n",
        "\n",
        "    x = Conv2D(128, (4, 4), padding='same', strides=2, use_bias=False)(x)\n",
        "    x = BatchNormalization()(x)\n",
        "    x = LeakyReLU(alpha=0.2)(x)\n",
        "\n",
        "    x = Conv2D(256, (4, 4), padding='same', strides=2, use_bias=False)(x)\n",
        "    x = BatchNormalization()(x)\n",
        "    x = LeakyReLU(alpha=0.2)(x)\n",
        "\n",
        "    x = Conv2D(512, (4, 4), padding='same', strides=2, use_bias=False)(x)\n",
        "    x = BatchNormalization()(x)\n",
        "    x = LeakyReLU(alpha=0.2)(x)\n",
        "\n",
        "    x2 = Conv2D(64 * 8, kernel_size=1,\n",
        "                padding=\"same\", strides=1)(x)\n",
        "    x2 = BatchNormalization()(x2)\n",
        "    x2 = LeakyReLU(alpha=0.2)(x2)\n",
        "    x2 = Flatten()(x2)\n",
        "\n",
        "    labels = Input(shape=(NUM_ATTRIBUTES,))\n",
        "    merged_input = concatenate([x2, labels])\n",
        "    \n",
        "    x2 = Dense(1)(merged_input)\n",
        "    x2 = Activation('sigmoid')(x2)\n",
        "\n",
        "    stage1_dis = Model(inputs=[input_layer, labels], outputs=[x2])\n",
        "    return stage1_dis"
      ],
      "execution_count": 0,
      "outputs": []
    },
    {
      "cell_type": "code",
      "metadata": {
        "id": "NREfScoDpXKb",
        "colab_type": "code",
        "colab": {}
      },
      "source": [
        "def build_adversarial_model(gen_model, dis_model):\n",
        "    input_layer = Input(shape=(100,))\n",
        "    labels = Input(shape=(NUM_ATTRIBUTES,))\n",
        "\n",
        "    x = gen_model([input_layer, labels])\n",
        "\n",
        "    dis_model.trainable = False\n",
        "    valid = dis_model([x, labels])\n",
        "\n",
        "    model = Model(inputs=[input_layer, labels], outputs=[valid])\n",
        "    return model"
      ],
      "execution_count": 0,
      "outputs": []
    },
    {
      "cell_type": "markdown",
      "metadata": {
        "id": "eNBHRmpqpZgo",
        "colab_type": "text"
      },
      "source": [
        "# Defining Loss"
      ]
    },
    {
      "cell_type": "code",
      "metadata": {
        "id": "S6wkVR9lpd5q",
        "colab_type": "code",
        "colab": {}
      },
      "source": [
        "def custom_generator_loss(y_true, y_pred):\n",
        "    # Calculate binary cross entropy loss\n",
        "    return K.binary_crossentropy(y_true, y_pred)"
      ],
      "execution_count": 0,
      "outputs": []
    },
    {
      "cell_type": "code",
      "metadata": {
        "id": "1wGTNAxZpfoc",
        "colab_type": "code",
        "colab": {}
      },
      "source": [
        "def save_rgb_img(img, path):\n",
        "    \"\"\"\n",
        "    Save an rgb image\n",
        "    \"\"\"\n",
        "    fig = plt.figure()\n",
        "    ax = fig.add_subplot(1, 1, 1)\n",
        "    ax.imshow(img)\n",
        "    ax.axis(\"off\")\n",
        "    ax.set_title(\"Image\")\n",
        "\n",
        "    plt.savefig(path)\n",
        "    plt.close()"
      ],
      "execution_count": 0,
      "outputs": []
    },
    {
      "cell_type": "markdown",
      "metadata": {
        "id": "5YvFNk3UKqQb",
        "colab_type": "text"
      },
      "source": [
        "# Setup PyDrive"
      ]
    },
    {
      "cell_type": "code",
      "metadata": {
        "id": "Kpx0vUWDKsvT",
        "colab_type": "code",
        "colab": {}
      },
      "source": [
        "# Install the PyDrive wrapper & import libraries.\n",
        "# This only needs to be done once in a notebook.\n",
        "!pip install -U -q PyDrive\n",
        "from pydrive.auth import GoogleAuth\n",
        "from pydrive.drive import GoogleDrive\n",
        "from google.colab import auth\n",
        "from oauth2client.client import GoogleCredentials\n",
        "\n",
        "# Authenticate and create the PyDrive client.\n",
        "# This only needs to be done once in a notebook.\n",
        "auth.authenticate_user()\n",
        "gauth = GoogleAuth()\n",
        "gauth.credentials = GoogleCredentials.get_application_default()\n",
        "drive = GoogleDrive(gauth)"
      ],
      "execution_count": 0,
      "outputs": []
    },
    {
      "cell_type": "markdown",
      "metadata": {
        "id": "JWRKO6IfpkFt",
        "colab_type": "text"
      },
      "source": [
        "# Main File"
      ]
    },
    {
      "cell_type": "code",
      "metadata": {
        "id": "6Pjt8uWEpjsS",
        "colab_type": "code",
        "outputId": "8f355850-bc2d-4286-c24e-ce2a5cd7d5cf",
        "colab": {
          "base_uri": "https://localhost:8080/",
          "height": 1000
        }
      },
      "source": [
        "if __name__ == '__main__':\n",
        "    image_size = 64\n",
        "    batch_size = 64\n",
        "    z_dim = 100\n",
        "    stage1_generator_lr = 0.0002\n",
        "    stage1_discriminator_lr = 0.0002\n",
        "    stage1_lr_decay_step = 600\n",
        "    epochs = 100\n",
        "    condition_dim = 128\n",
        "    \n",
        "    dis_optimizer = Adam(lr=stage1_discriminator_lr, beta_1=0.5, beta_2=0.999)\n",
        "    gen_optimizer = Adam(lr=stage1_generator_lr, beta_1=0.5, beta_2=0.999)\n",
        "\n",
        "    stage1_dis = build_stage1_discriminator()\n",
        "    stage1_dis.compile(loss='binary_crossentropy', optimizer=dis_optimizer)\n",
        "\n",
        "    stage1_gen = build_stage1_generator()\n",
        "    stage1_gen.compile(loss=\"mse\", optimizer=gen_optimizer)\n",
        "\n",
        "    adversarial_model = build_adversarial_model(gen_model=stage1_gen, dis_model=stage1_dis)\n",
        "    adversarial_model.compile(loss=['binary_crossentropy'], loss_weights=[1],\n",
        "                              optimizer=gen_optimizer, metrics=None)\n",
        "\n",
        "    real_labels = np.ones((batch_size, 1), dtype=float) * 0.9\n",
        "    fake_labels = np.zeros((batch_size, 1), dtype=float) * 0.1\n",
        "\n",
        "    for epoch in range(epochs):\n",
        "        print(\"========================================\")\n",
        "        print(\"Epoch is:\", epoch)\n",
        "        print(\"Number of batches\", int(X_train.shape[0] / batch_size))\n",
        "\n",
        "        gen_losses = []\n",
        "        dis_losses = []\n",
        "\n",
        "        # Load data and train model\n",
        "        number_of_batches = int(X_train.shape[0] / batch_size)\n",
        "        for index in range(number_of_batches):\n",
        "            print(\"Batch:{}\".format(index+1))\n",
        "            \n",
        "            \"\"\"\n",
        "            Train the discriminator network\n",
        "            \"\"\"\n",
        "            # Sample a batch of data\n",
        "            z_noise = np.random.normal(0, 1, size=(batch_size, z_dim))\n",
        "            image_batch = X_train[index * batch_size:(index + 1) * batch_size]\n",
        "            \n",
        "            label_batch = y_train[index * batch_size:(index + 1) * batch_size]\n",
        "\n",
        "            # Generate fake images\n",
        "            fake_images = stage1_gen.predict([z_noise, label_batch], verbose=3)\n",
        "\n",
        "            dis_loss_real = stage1_dis.train_on_batch([image_batch, label_batch],\n",
        "                                                      np.reshape(real_labels, (batch_size, 1)))\n",
        "            dis_loss_fake = stage1_dis.train_on_batch([fake_images, label_batch],\n",
        "                                                      np.reshape(fake_labels, (batch_size, 1)))\n",
        "            \n",
        "            dis_loss_wrong = stage1_dis.train_on_batch([image_batch[:(batch_size - 1)],label_batch[1:]],\n",
        "                                                       np.reshape(fake_labels[1:], (batch_size-1, 1)))\n",
        "\n",
        "            d_loss = 0.5 * np.add(dis_loss_real, 0.5 * np.add(dis_loss_wrong, dis_loss_fake))\n",
        "\n",
        "            print(\"d_loss_real:{}\".format(dis_loss_real))\n",
        "            print(\"d_loss_fake:{}\".format(dis_loss_fake))\n",
        "            print(\"d_loss_wrong:{}\".format(dis_loss_wrong))\n",
        "            print(\"d_loss:{}\".format(d_loss))\n",
        "\n",
        "            \"\"\"\n",
        "            Train the generator network \n",
        "            \"\"\"\n",
        "            g_loss = adversarial_model.train_on_batch([z_noise, label_batch],[K.ones((batch_size, 1)) * 0.9])\n",
        "            print(\"g_loss:{}\".format(g_loss))\n",
        "\n",
        "            dis_losses.append(d_loss)\n",
        "            gen_losses.append(g_loss)\n",
        "\n",
        "        \n",
        "        # Generate and save images after every 2nd epoch\n",
        "        if epoch % 2 == 0:\n",
        "            z_noise2 = np.random.normal(0, 1, size=(NUM_ATTRIBUTES, z_dim))\n",
        "            labels2 = to_categorical(np.arange(0, NUM_ATTRIBUTES).reshape(-1, 1), NUM_ATTRIBUTES)\n",
        "            fake_images = stage1_gen.predict_on_batch([z_noise2, labels2])\n",
        "\n",
        "            # Save images\n",
        "            for i, img in enumerate(fake_images[:10]):\n",
        "                save_rgb_img(img, \"results2/gen_{}_{}.png\".format(epoch, i))\n",
        "\n",
        "    # Save models\n",
        "    stage1_gen.save_weights(\"stage1_gen.h5\")\n",
        "    stage1_dis.save_weights(\"stage1_dis.h5\")"
      ],
      "execution_count": 0,
      "outputs": [
        {
          "output_type": "stream",
          "text": [
            "WARNING:tensorflow:From /usr/local/lib/python3.6/dist-packages/keras/optimizers.py:793: The name tf.train.Optimizer is deprecated. Please use tf.compat.v1.train.Optimizer instead.\n",
            "\n",
            "WARNING:tensorflow:From /usr/local/lib/python3.6/dist-packages/keras/backend/tensorflow_backend.py:3657: The name tf.log is deprecated. Please use tf.math.log instead.\n",
            "\n",
            "WARNING:tensorflow:From /usr/local/lib/python3.6/dist-packages/tensorflow_core/python/ops/nn_impl.py:183: where (from tensorflow.python.ops.array_ops) is deprecated and will be removed in a future version.\n",
            "Instructions for updating:\n",
            "Use tf.where in 2.0, which has the same broadcast rule as np.where\n",
            "WARNING:tensorflow:From /usr/local/lib/python3.6/dist-packages/keras/backend/tensorflow_backend.py:2239: The name tf.image.resize_nearest_neighbor is deprecated. Please use tf.compat.v1.image.resize_nearest_neighbor instead.\n",
            "\n",
            "========================================\n",
            "Epoch is: 0\n",
            "Number of batches 78\n",
            "Batch:1\n"
          ],
          "name": "stdout"
        },
        {
          "output_type": "stream",
          "text": [
            "/usr/local/lib/python3.6/dist-packages/keras/engine/training.py:493: UserWarning: Discrepancy between trainable weights and collected trainable weights, did you set `model.trainable` without calling `model.compile` after ?\n",
            "  'Discrepancy between trainable weights and collected trainable'\n"
          ],
          "name": "stderr"
        },
        {
          "output_type": "stream",
          "text": [
            "WARNING:tensorflow:From /usr/local/lib/python3.6/dist-packages/keras/backend/tensorflow_backend.py:1033: The name tf.assign_add is deprecated. Please use tf.compat.v1.assign_add instead.\n",
            "\n",
            "WARNING:tensorflow:From /usr/local/lib/python3.6/dist-packages/keras/backend/tensorflow_backend.py:1020: The name tf.assign is deprecated. Please use tf.compat.v1.assign instead.\n",
            "\n"
          ],
          "name": "stdout"
        },
        {
          "output_type": "stream",
          "text": [
            "/usr/local/lib/python3.6/dist-packages/keras/engine/training.py:493: UserWarning: Discrepancy between trainable weights and collected trainable weights, did you set `model.trainable` without calling `model.compile` after ?\n",
            "  'Discrepancy between trainable weights and collected trainable'\n"
          ],
          "name": "stderr"
        },
        {
          "output_type": "stream",
          "text": [
            "d_loss_real:0.49502718448638916\n",
            "d_loss_fake:2.879389762878418\n",
            "d_loss_wrong:7.317793369293213\n",
            "d_loss:2.796809494495392\n",
            "g_loss:3.4219400882720947\n",
            "Batch:2\n"
          ],
          "name": "stdout"
        },
        {
          "output_type": "stream",
          "text": [
            "/usr/local/lib/python3.6/dist-packages/keras/engine/training.py:493: UserWarning: Discrepancy between trainable weights and collected trainable weights, did you set `model.trainable` without calling `model.compile` after ?\n",
            "  'Discrepancy between trainable weights and collected trainable'\n"
          ],
          "name": "stderr"
        },
        {
          "output_type": "stream",
          "text": [
            "d_loss_real:1.5504755973815918\n",
            "d_loss_fake:0.7430997490882874\n",
            "d_loss_wrong:0.4695242941379547\n",
            "d_loss:1.078393816947937\n",
            "g_loss:5.032168865203857\n",
            "Batch:3\n",
            "d_loss_real:3.5714776515960693\n",
            "d_loss_fake:0.004382932558655739\n",
            "d_loss_wrong:1.834227442741394\n",
            "d_loss:2.2453914284706116\n",
            "g_loss:3.353292465209961\n",
            "Batch:4\n",
            "d_loss_real:2.0598092079162598\n",
            "d_loss_fake:0.11923021078109741\n",
            "d_loss_wrong:1.715478777885437\n",
            "d_loss:1.4885818362236023\n",
            "g_loss:3.830437183380127\n",
            "Batch:5\n",
            "d_loss_real:2.156991481781006\n",
            "d_loss_fake:0.0773562341928482\n",
            "d_loss_wrong:1.310060977935791\n",
            "d_loss:1.4253500401973724\n",
            "g_loss:4.213210105895996\n",
            "Batch:6\n",
            "d_loss_real:1.500051736831665\n",
            "d_loss_fake:0.010223052464425564\n",
            "d_loss_wrong:1.95356023311615\n",
            "d_loss:1.2409716844558716\n",
            "g_loss:3.665776252746582\n",
            "Batch:7\n",
            "d_loss_real:1.580094575881958\n",
            "d_loss_fake:0.012316146865487099\n",
            "d_loss_wrong:0.9766742587089539\n",
            "d_loss:1.0372948944568634\n",
            "g_loss:2.800960063934326\n",
            "Batch:8\n",
            "d_loss_real:1.686814785003662\n",
            "d_loss_fake:0.021556507796049118\n",
            "d_loss_wrong:1.0716280937194824\n",
            "d_loss:1.1167035400867462\n",
            "g_loss:2.23386287689209\n",
            "Batch:9\n",
            "d_loss_real:1.424432635307312\n",
            "d_loss_fake:0.01986217126250267\n",
            "d_loss_wrong:1.034440517425537\n",
            "d_loss:0.9757919907569885\n",
            "g_loss:1.969473123550415\n",
            "Batch:10\n",
            "d_loss_real:1.289093017578125\n",
            "d_loss_fake:0.021731406450271606\n",
            "d_loss_wrong:1.5915188789367676\n",
            "d_loss:1.0478590726852417\n",
            "g_loss:1.842733383178711\n",
            "Batch:11\n",
            "d_loss_real:1.1620663404464722\n",
            "d_loss_fake:0.029744446277618408\n",
            "d_loss_wrong:1.0364881753921509\n",
            "d_loss:0.8475913405418396\n",
            "g_loss:1.9107825756072998\n",
            "Batch:12\n",
            "d_loss_real:1.3535466194152832\n",
            "d_loss_fake:0.03727225959300995\n",
            "d_loss_wrong:1.1261082887649536\n",
            "d_loss:0.9676184356212616\n",
            "g_loss:2.082066774368286\n",
            "Batch:13\n",
            "d_loss_real:1.280681848526001\n",
            "d_loss_fake:0.028234636411070824\n",
            "d_loss_wrong:0.9525806307792664\n",
            "d_loss:0.8855447471141815\n",
            "g_loss:2.152597188949585\n",
            "Batch:14\n",
            "d_loss_real:1.5481467247009277\n",
            "d_loss_fake:0.02830677293241024\n",
            "d_loss_wrong:0.7553583979606628\n",
            "d_loss:0.9699896574020386\n",
            "g_loss:1.9804447889328003\n",
            "Batch:15\n",
            "d_loss_real:1.1810563802719116\n",
            "d_loss_fake:0.07898987829685211\n",
            "d_loss_wrong:0.9480270147323608\n",
            "d_loss:0.8472824096679688\n",
            "g_loss:2.881467580795288\n",
            "Batch:16\n",
            "d_loss_real:1.1415446996688843\n",
            "d_loss_fake:0.06429390609264374\n",
            "d_loss_wrong:0.8897063136100769\n",
            "d_loss:0.8092724084854126\n",
            "g_loss:4.333885192871094\n",
            "Batch:17\n",
            "d_loss_real:1.1780931949615479\n",
            "d_loss_fake:0.04230213910341263\n",
            "d_loss_wrong:0.8931652307510376\n",
            "d_loss:0.8229134380817413\n",
            "g_loss:4.539510726928711\n",
            "Batch:18\n",
            "d_loss_real:1.1443657875061035\n",
            "d_loss_fake:0.06003884971141815\n",
            "d_loss_wrong:0.8008528351783752\n",
            "d_loss:0.7874058187007904\n",
            "g_loss:3.640673875808716\n",
            "Batch:19\n",
            "d_loss_real:1.1262613534927368\n",
            "d_loss_fake:0.05917663499712944\n",
            "d_loss_wrong:0.8986827731132507\n",
            "d_loss:0.8025955259799957\n",
            "g_loss:2.558293104171753\n",
            "Batch:20\n",
            "d_loss_real:1.1376821994781494\n",
            "d_loss_fake:0.026973072439432144\n",
            "d_loss_wrong:0.8522323369979858\n",
            "d_loss:0.7886424511671066\n",
            "g_loss:2.026005983352661\n",
            "Batch:21\n",
            "d_loss_real:1.2945740222930908\n",
            "d_loss_fake:0.016251763328909874\n",
            "d_loss_wrong:1.002906322479248\n",
            "d_loss:0.9020765423774719\n",
            "g_loss:1.7477753162384033\n",
            "Batch:22\n",
            "d_loss_real:1.1507446765899658\n",
            "d_loss_fake:0.014230530709028244\n",
            "d_loss_wrong:0.7987054586410522\n",
            "d_loss:0.7786063402891159\n",
            "g_loss:1.6737942695617676\n",
            "Batch:23\n",
            "d_loss_real:1.0163085460662842\n",
            "d_loss_fake:0.01263054646551609\n",
            "d_loss_wrong:0.8532630205154419\n",
            "d_loss:0.7246276587247849\n",
            "g_loss:1.6340899467468262\n",
            "Batch:24\n",
            "d_loss_real:1.0846543312072754\n",
            "d_loss_fake:0.02903740294277668\n",
            "d_loss_wrong:0.9020825624465942\n",
            "d_loss:0.7751071602106094\n",
            "g_loss:1.692185640335083\n",
            "Batch:25\n",
            "d_loss_real:1.1430888175964355\n",
            "d_loss_fake:0.0700276717543602\n",
            "d_loss_wrong:0.7228642702102661\n",
            "d_loss:0.7697673887014389\n",
            "g_loss:2.150503158569336\n",
            "Batch:26\n",
            "d_loss_real:1.1546821594238281\n",
            "d_loss_fake:0.07247171550989151\n",
            "d_loss_wrong:0.7820419073104858\n",
            "d_loss:0.7909694910049438\n",
            "g_loss:2.578551769256592\n",
            "Batch:27\n",
            "d_loss_real:1.122070550918579\n",
            "d_loss_fake:0.046253591775894165\n",
            "d_loss_wrong:0.7332274317741394\n",
            "d_loss:0.7559055387973785\n",
            "g_loss:2.176398754119873\n",
            "Batch:28\n",
            "d_loss_real:0.950684130191803\n",
            "d_loss_fake:0.04668835550546646\n",
            "d_loss_wrong:0.8268877267837524\n",
            "d_loss:0.6937360912561417\n",
            "g_loss:2.182743549346924\n",
            "Batch:29\n",
            "d_loss_real:1.0403718948364258\n",
            "d_loss_fake:0.04870839789509773\n",
            "d_loss_wrong:0.6725072860717773\n",
            "d_loss:0.7004898637533188\n",
            "g_loss:2.3926730155944824\n",
            "Batch:30\n",
            "d_loss_real:1.1632463932037354\n",
            "d_loss_fake:0.095264732837677\n",
            "d_loss_wrong:0.7607941627502441\n",
            "d_loss:0.795637920498848\n",
            "g_loss:3.022491455078125\n",
            "Batch:31\n",
            "d_loss_real:1.077681541442871\n",
            "d_loss_fake:0.08530391752719879\n",
            "d_loss_wrong:0.9507086277008057\n",
            "d_loss:0.7978439033031464\n",
            "g_loss:3.875831127166748\n",
            "Batch:32\n",
            "d_loss_real:1.09162437915802\n",
            "d_loss_fake:0.03221137449145317\n",
            "d_loss_wrong:0.6952176690101624\n",
            "d_loss:0.7276694476604462\n",
            "g_loss:3.631493330001831\n",
            "Batch:33\n",
            "d_loss_real:1.15708589553833\n",
            "d_loss_fake:0.034014828503131866\n",
            "d_loss_wrong:0.7722072005271912\n",
            "d_loss:0.7800984531641006\n",
            "g_loss:2.612191677093506\n",
            "Batch:34\n",
            "d_loss_real:1.0561643838882446\n",
            "d_loss_fake:0.05163377523422241\n",
            "d_loss_wrong:0.7873389720916748\n",
            "d_loss:0.7378253787755966\n",
            "g_loss:2.585826873779297\n",
            "Batch:35\n",
            "d_loss_real:1.0251941680908203\n",
            "d_loss_fake:0.04757470637559891\n",
            "d_loss_wrong:0.6993958353996277\n",
            "d_loss:0.6993397176265717\n",
            "g_loss:2.799398899078369\n",
            "Batch:36\n",
            "d_loss_real:1.1967642307281494\n",
            "d_loss_fake:0.088198721408844\n",
            "d_loss_wrong:0.6415960788726807\n",
            "d_loss:0.7808308154344559\n",
            "g_loss:3.5361809730529785\n",
            "Batch:37\n",
            "d_loss_real:1.1321837902069092\n",
            "d_loss_fake:0.03459476679563522\n",
            "d_loss_wrong:0.7579270005226135\n",
            "d_loss:0.7642223387956619\n",
            "g_loss:3.261587142944336\n",
            "Batch:38\n",
            "d_loss_real:1.0945895910263062\n",
            "d_loss_fake:0.06156095117330551\n",
            "d_loss_wrong:0.7683994174003601\n",
            "d_loss:0.754784882068634\n",
            "g_loss:2.9628407955169678\n",
            "Batch:39\n",
            "d_loss_real:0.9609677791595459\n",
            "d_loss_fake:0.07471500337123871\n",
            "d_loss_wrong:0.7422032356262207\n",
            "d_loss:0.6847134530544281\n",
            "g_loss:2.9186248779296875\n",
            "Batch:40\n",
            "d_loss_real:1.152479648590088\n",
            "d_loss_fake:0.06097825616598129\n",
            "d_loss_wrong:0.6807225346565247\n",
            "d_loss:0.761665016412735\n",
            "g_loss:2.4521918296813965\n",
            "Batch:41\n",
            "d_loss_real:1.0499095916748047\n",
            "d_loss_fake:0.106083944439888\n",
            "d_loss_wrong:0.7946715950965881\n",
            "d_loss:0.7501436769962311\n",
            "g_loss:2.7031819820404053\n",
            "Batch:42\n",
            "d_loss_real:1.1824264526367188\n",
            "d_loss_fake:0.09441421180963516\n",
            "d_loss_wrong:0.62359219789505\n",
            "d_loss:0.7707148343324661\n",
            "g_loss:2.622908592224121\n",
            "Batch:43\n",
            "d_loss_real:1.0055501461029053\n",
            "d_loss_fake:0.18738248944282532\n",
            "d_loss_wrong:0.6230630874633789\n",
            "d_loss:0.7053864598274231\n",
            "g_loss:2.989856481552124\n",
            "Batch:44\n",
            "d_loss_real:1.1648226976394653\n",
            "d_loss_fake:0.11764620244503021\n",
            "d_loss_wrong:0.9509193301200867\n",
            "d_loss:0.849552720785141\n",
            "g_loss:2.7184906005859375\n",
            "Batch:45\n",
            "d_loss_real:1.2150503396987915\n",
            "d_loss_fake:0.06078143045306206\n",
            "d_loss_wrong:0.6818315982818604\n",
            "d_loss:0.7931784242391586\n",
            "g_loss:1.9619542360305786\n",
            "Batch:46\n",
            "d_loss_real:1.050153136253357\n",
            "d_loss_fake:0.034547388553619385\n",
            "d_loss_wrong:0.7014126777648926\n",
            "d_loss:0.7090665847063065\n",
            "g_loss:1.719660758972168\n",
            "Batch:47\n",
            "d_loss_real:1.1244640350341797\n",
            "d_loss_fake:0.020438577979803085\n",
            "d_loss_wrong:0.7134844064712524\n",
            "d_loss:0.7457127571105957\n",
            "g_loss:1.3375324010849\n",
            "Batch:48\n",
            "d_loss_real:1.414448618888855\n",
            "d_loss_fake:0.0281490758061409\n",
            "d_loss_wrong:0.7491090893745422\n",
            "d_loss:0.9015388488769531\n"
          ],
          "name": "stdout"
        }
      ]
    },
    {
      "cell_type": "code",
      "metadata": {
        "id": "nGYJWLTGm9R4",
        "colab_type": "code",
        "colab": {}
      },
      "source": [
        "# Create & upload a file.\n",
        "uploaded = drive.CreateFile({'title': 'stage1_dis.h5'})\n",
        "uploaded.SetContentFile('stage1_dis.h5')\n",
        "uploaded.Upload()\n",
        "print('Uploaded file with ID {}'.format(uploaded.get('id')))"
      ],
      "execution_count": 0,
      "outputs": []
    },
    {
      "cell_type": "code",
      "metadata": {
        "id": "glMY1sSNnFQi",
        "colab_type": "code",
        "colab": {}
      },
      "source": [
        "# Create & upload a file.\n",
        "uploaded = drive.CreateFile({'title': 'stage1_gen.h5'})\n",
        "uploaded.SetContentFile('stage1_gen.h5')\n",
        "uploaded.Upload()\n",
        "print('Uploaded file with ID {}'.format(uploaded.get('id')))"
      ],
      "execution_count": 0,
      "outputs": []
    },
    {
      "cell_type": "code",
      "metadata": {
        "id": "nfRs1DsqnJVc",
        "colab_type": "code",
        "colab": {}
      },
      "source": [
        ""
      ],
      "execution_count": 0,
      "outputs": []
    }
  ]
}